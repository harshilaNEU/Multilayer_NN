{
 "cells": [
  {
   "cell_type": "code",
   "execution_count": 6,
   "metadata": {},
   "outputs": [
    {
     "name": "stdout",
     "output_type": "stream",
     "text": [
      "Layer 1: 10 neurons, Activation: relu\n",
      "Layer 2: 8 neurons, Activation: relu\n",
      "Layer 3: 8 neurons, Activation: relu\n",
      "Layer 4: 4 neurons, Activation: relu\n",
      "Layer 5: 1 neurons, Activation: sigmoid\n"
     ]
    }
   ],
   "source": [
    "import numpy as np\n",
    "\n",
    "class Activation:\n",
    "    # Static methods for activation functions\n",
    "    def relu(z):\n",
    "        # ReLU activation function\n",
    "        return np.maximum(0, z)\n",
    "\n",
    "    def sigmoid(z):\n",
    "        # Sigmoid activation function\n",
    "        return 1 / (1 + np.exp(-z))\n",
    "\n",
    "class Parameters:\n",
    "    def __init__(self, input_size, output_size):\n",
    "        # Initialize weights and biases\n",
    "        self.weights = np.random.randn(output_size, input_size) * 0.1  # Small random values for weights\n",
    "        self.biases = np.zeros((output_size, 1))  # Zeros for biases\n",
    "\n",
    "class Layer:\n",
    "    def __init__(self, input_size, output_size, activation):\n",
    "        # Initialize a layer with given input size, output size, and activation function\n",
    "        self.params = Parameters(input_size, output_size)  # Create parameters for the layer\n",
    "        self.activation = activation  # Set the activation function\n",
    "        self.z = None  # Linear transformation output (pre-activation)\n",
    "        self.a = None  # Activation output\n",
    "\n",
    "    def forward(self, a_prev):\n",
    "        # Forward pass through the layer\n",
    "        self.z = np.dot(self.params.weights, a_prev) + self.params.biases  # Linear transformation\n",
    "        if self.activation == 'relu':\n",
    "            self.a = Activation.relu(self.z)  # Apply ReLU activation function\n",
    "        elif self.activation == 'sigmoid':\n",
    "            self.a = Activation.sigmoid(self.z)  # Apply Sigmoid activation function\n",
    "        return self.a  # Return the activation output\n",
    "\n",
    "class DeepNeuralNetwork:\n",
    "    def __init__(self):\n",
    "        # Define the layers of the network according to the specified architecture\n",
    "        self.layers = [\n",
    "            Layer(10, 10, 'relu'),  # Input layer with 10 neurons (assuming input size is 10), ReLU activation\n",
    "            Layer(10, 8, 'relu'),   # Second layer with 8 neurons, ReLU activation\n",
    "            Layer(8, 8, 'relu'),    # Third layer (also with 8 neurons, ReLU activation) - repeating the second layer's structure\n",
    "            Layer(8, 4, 'relu'),    # Fourth layer with 4 neurons, ReLU activation\n",
    "            Layer(4, 1, 'sigmoid')  # Output layer with 1 neuron, Sigmoid activation for binary classification\n",
    "        ]\n",
    "\n",
    "    def forward_propagation(self, X):\n",
    "        # Perform forward propagation through all layers of the network\n",
    "        a = X  # Initialize activation to the input\n",
    "        for layer in self.layers:\n",
    "            a = layer.forward(a)  # Get the output of the current layer to be used as input for the next layer\n",
    "        return a  # Return the output of the last layer\n",
    "\n",
    "    def print_model(self):\n",
    "        # Print the architecture of the network\n",
    "        for i, layer in enumerate(self.layers, 1):\n",
    "            print(f\"Layer {i}: {layer.params.weights.shape[0]} neurons, Activation: {layer.activation}\")\n",
    "\n",
    "# Initialize the deep neural network\n",
    "dnn = DeepNeuralNetwork()\n",
    "\n",
    "# Print the model and its layers to verify architecture\n",
    "dnn.print_model()\n"
   ]
  }
 ],
 "metadata": {
  "kernelspec": {
   "display_name": "Python 3.10.10 64-bit",
   "language": "python",
   "name": "python3"
  },
  "language_info": {
   "codemirror_mode": {
    "name": "ipython",
    "version": 3
   },
   "file_extension": ".py",
   "mimetype": "text/x-python",
   "name": "python",
   "nbconvert_exporter": "python",
   "pygments_lexer": "ipython3",
   "version": "3.10.10"
  },
  "orig_nbformat": 4,
  "vscode": {
   "interpreter": {
    "hash": "aee8b7b246df8f9039afb4144a1f6fd8d2ca17a180786b69acc140d282b71a49"
   }
  }
 },
 "nbformat": 4,
 "nbformat_minor": 2
}
